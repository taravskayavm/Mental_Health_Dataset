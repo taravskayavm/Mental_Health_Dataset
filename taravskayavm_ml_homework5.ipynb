{
  "cells": [
    {
      "cell_type": "markdown",
      "metadata": {
        "id": "view-in-github",
        "colab_type": "text"
      },
      "source": [
        "<a href=\"https://colab.research.google.com/github/taravskayavm/Mental_Health_Dataset/blob/main/taravskayavm_ml_homework5.ipynb\" target=\"_parent\"><img src=\"https://colab.research.google.com/assets/colab-badge.svg\" alt=\"Open In Colab\"/></a>"
      ]
    },
    {
      "cell_type": "markdown",
      "id": "04b8b320-73b6-44f2-b325-b02e643d2c25",
      "metadata": {
        "id": "04b8b320-73b6-44f2-b325-b02e643d2c25"
      },
      "source": [
        "ДЗ 5\n",
        "\n",
        "Проведите разведочный анализ данных на датасете с kaggle.com"
      ]
    },
    {
      "cell_type": "code",
      "execution_count": null,
      "id": "17275f90-39aa-4ba4-9aa3-d1904b7ba1d3",
      "metadata": {
        "id": "17275f90-39aa-4ba4-9aa3-d1904b7ba1d3"
      },
      "outputs": [],
      "source": [
        "import pandas as pd\n",
        "import numpy as np\n",
        "import matplotlib.pyplot as plt\n",
        "import seaborn as sns"
      ]
    },
    {
      "cell_type": "code",
      "execution_count": null,
      "id": "a6b4402b-e53a-419f-a0cd-41bc19ea2bfc",
      "metadata": {
        "id": "a6b4402b-e53a-419f-a0cd-41bc19ea2bfc"
      },
      "outputs": [],
      "source": [
        "plt.rcParams['axes.grid'] = True"
      ]
    },
    {
      "cell_type": "code",
      "execution_count": null,
      "id": "148b866f-5a6b-493d-ad21-252d091de9ac",
      "metadata": {
        "id": "148b866f-5a6b-493d-ad21-252d091de9ac",
        "colab": {
          "base_uri": "https://localhost:8080/",
          "height": 287
        },
        "outputId": "e810e50b-d750-4158-e904-7d99cfa7bed8"
      },
      "outputs": [
        {
          "output_type": "error",
          "ename": "FileNotFoundError",
          "evalue": "[Errno 2] No such file or directory: '/content/Mental Health Dataset.csv'",
          "traceback": [
            "\u001b[0;31m---------------------------------------------------------------------------\u001b[0m",
            "\u001b[0;31mFileNotFoundError\u001b[0m                         Traceback (most recent call last)",
            "\u001b[0;32m<ipython-input-5-a9d4669ea56c>\u001b[0m in \u001b[0;36m<cell line: 1>\u001b[0;34m()\u001b[0m\n\u001b[0;32m----> 1\u001b[0;31m \u001b[0mdf\u001b[0m \u001b[0;34m=\u001b[0m \u001b[0mpd\u001b[0m\u001b[0;34m.\u001b[0m\u001b[0mread_csv\u001b[0m\u001b[0;34m(\u001b[0m\u001b[0;34m'/content/Mental Health Dataset.csv'\u001b[0m\u001b[0;34m)\u001b[0m\u001b[0;34m\u001b[0m\u001b[0;34m\u001b[0m\u001b[0m\n\u001b[0m",
            "\u001b[0;32m/usr/local/lib/python3.10/dist-packages/pandas/io/parsers/readers.py\u001b[0m in \u001b[0;36mread_csv\u001b[0;34m(filepath_or_buffer, sep, delimiter, header, names, index_col, usecols, dtype, engine, converters, true_values, false_values, skipinitialspace, skiprows, skipfooter, nrows, na_values, keep_default_na, na_filter, verbose, skip_blank_lines, parse_dates, infer_datetime_format, keep_date_col, date_parser, date_format, dayfirst, cache_dates, iterator, chunksize, compression, thousands, decimal, lineterminator, quotechar, quoting, doublequote, escapechar, comment, encoding, encoding_errors, dialect, on_bad_lines, delim_whitespace, low_memory, memory_map, float_precision, storage_options, dtype_backend)\u001b[0m\n\u001b[1;32m    910\u001b[0m     \u001b[0mkwds\u001b[0m\u001b[0;34m.\u001b[0m\u001b[0mupdate\u001b[0m\u001b[0;34m(\u001b[0m\u001b[0mkwds_defaults\u001b[0m\u001b[0;34m)\u001b[0m\u001b[0;34m\u001b[0m\u001b[0;34m\u001b[0m\u001b[0m\n\u001b[1;32m    911\u001b[0m \u001b[0;34m\u001b[0m\u001b[0m\n\u001b[0;32m--> 912\u001b[0;31m     \u001b[0;32mreturn\u001b[0m \u001b[0m_read\u001b[0m\u001b[0;34m(\u001b[0m\u001b[0mfilepath_or_buffer\u001b[0m\u001b[0;34m,\u001b[0m \u001b[0mkwds\u001b[0m\u001b[0;34m)\u001b[0m\u001b[0;34m\u001b[0m\u001b[0;34m\u001b[0m\u001b[0m\n\u001b[0m\u001b[1;32m    913\u001b[0m \u001b[0;34m\u001b[0m\u001b[0m\n\u001b[1;32m    914\u001b[0m \u001b[0;34m\u001b[0m\u001b[0m\n",
            "\u001b[0;32m/usr/local/lib/python3.10/dist-packages/pandas/io/parsers/readers.py\u001b[0m in \u001b[0;36m_read\u001b[0;34m(filepath_or_buffer, kwds)\u001b[0m\n\u001b[1;32m    575\u001b[0m \u001b[0;34m\u001b[0m\u001b[0m\n\u001b[1;32m    576\u001b[0m     \u001b[0;31m# Create the parser.\u001b[0m\u001b[0;34m\u001b[0m\u001b[0;34m\u001b[0m\u001b[0m\n\u001b[0;32m--> 577\u001b[0;31m     \u001b[0mparser\u001b[0m \u001b[0;34m=\u001b[0m \u001b[0mTextFileReader\u001b[0m\u001b[0;34m(\u001b[0m\u001b[0mfilepath_or_buffer\u001b[0m\u001b[0;34m,\u001b[0m \u001b[0;34m**\u001b[0m\u001b[0mkwds\u001b[0m\u001b[0;34m)\u001b[0m\u001b[0;34m\u001b[0m\u001b[0;34m\u001b[0m\u001b[0m\n\u001b[0m\u001b[1;32m    578\u001b[0m \u001b[0;34m\u001b[0m\u001b[0m\n\u001b[1;32m    579\u001b[0m     \u001b[0;32mif\u001b[0m \u001b[0mchunksize\u001b[0m \u001b[0;32mor\u001b[0m \u001b[0miterator\u001b[0m\u001b[0;34m:\u001b[0m\u001b[0;34m\u001b[0m\u001b[0;34m\u001b[0m\u001b[0m\n",
            "\u001b[0;32m/usr/local/lib/python3.10/dist-packages/pandas/io/parsers/readers.py\u001b[0m in \u001b[0;36m__init__\u001b[0;34m(self, f, engine, **kwds)\u001b[0m\n\u001b[1;32m   1405\u001b[0m \u001b[0;34m\u001b[0m\u001b[0m\n\u001b[1;32m   1406\u001b[0m         \u001b[0mself\u001b[0m\u001b[0;34m.\u001b[0m\u001b[0mhandles\u001b[0m\u001b[0;34m:\u001b[0m \u001b[0mIOHandles\u001b[0m \u001b[0;34m|\u001b[0m \u001b[0;32mNone\u001b[0m \u001b[0;34m=\u001b[0m \u001b[0;32mNone\u001b[0m\u001b[0;34m\u001b[0m\u001b[0;34m\u001b[0m\u001b[0m\n\u001b[0;32m-> 1407\u001b[0;31m         \u001b[0mself\u001b[0m\u001b[0;34m.\u001b[0m\u001b[0m_engine\u001b[0m \u001b[0;34m=\u001b[0m \u001b[0mself\u001b[0m\u001b[0;34m.\u001b[0m\u001b[0m_make_engine\u001b[0m\u001b[0;34m(\u001b[0m\u001b[0mf\u001b[0m\u001b[0;34m,\u001b[0m \u001b[0mself\u001b[0m\u001b[0;34m.\u001b[0m\u001b[0mengine\u001b[0m\u001b[0;34m)\u001b[0m\u001b[0;34m\u001b[0m\u001b[0;34m\u001b[0m\u001b[0m\n\u001b[0m\u001b[1;32m   1408\u001b[0m \u001b[0;34m\u001b[0m\u001b[0m\n\u001b[1;32m   1409\u001b[0m     \u001b[0;32mdef\u001b[0m \u001b[0mclose\u001b[0m\u001b[0;34m(\u001b[0m\u001b[0mself\u001b[0m\u001b[0;34m)\u001b[0m \u001b[0;34m->\u001b[0m \u001b[0;32mNone\u001b[0m\u001b[0;34m:\u001b[0m\u001b[0;34m\u001b[0m\u001b[0;34m\u001b[0m\u001b[0m\n",
            "\u001b[0;32m/usr/local/lib/python3.10/dist-packages/pandas/io/parsers/readers.py\u001b[0m in \u001b[0;36m_make_engine\u001b[0;34m(self, f, engine)\u001b[0m\n\u001b[1;32m   1659\u001b[0m                 \u001b[0;32mif\u001b[0m \u001b[0;34m\"b\"\u001b[0m \u001b[0;32mnot\u001b[0m \u001b[0;32min\u001b[0m \u001b[0mmode\u001b[0m\u001b[0;34m:\u001b[0m\u001b[0;34m\u001b[0m\u001b[0;34m\u001b[0m\u001b[0m\n\u001b[1;32m   1660\u001b[0m                     \u001b[0mmode\u001b[0m \u001b[0;34m+=\u001b[0m \u001b[0;34m\"b\"\u001b[0m\u001b[0;34m\u001b[0m\u001b[0;34m\u001b[0m\u001b[0m\n\u001b[0;32m-> 1661\u001b[0;31m             self.handles = get_handle(\n\u001b[0m\u001b[1;32m   1662\u001b[0m                 \u001b[0mf\u001b[0m\u001b[0;34m,\u001b[0m\u001b[0;34m\u001b[0m\u001b[0;34m\u001b[0m\u001b[0m\n\u001b[1;32m   1663\u001b[0m                 \u001b[0mmode\u001b[0m\u001b[0;34m,\u001b[0m\u001b[0;34m\u001b[0m\u001b[0;34m\u001b[0m\u001b[0m\n",
            "\u001b[0;32m/usr/local/lib/python3.10/dist-packages/pandas/io/common.py\u001b[0m in \u001b[0;36mget_handle\u001b[0;34m(path_or_buf, mode, encoding, compression, memory_map, is_text, errors, storage_options)\u001b[0m\n\u001b[1;32m    857\u001b[0m         \u001b[0;32mif\u001b[0m \u001b[0mioargs\u001b[0m\u001b[0;34m.\u001b[0m\u001b[0mencoding\u001b[0m \u001b[0;32mand\u001b[0m \u001b[0;34m\"b\"\u001b[0m \u001b[0;32mnot\u001b[0m \u001b[0;32min\u001b[0m \u001b[0mioargs\u001b[0m\u001b[0;34m.\u001b[0m\u001b[0mmode\u001b[0m\u001b[0;34m:\u001b[0m\u001b[0;34m\u001b[0m\u001b[0;34m\u001b[0m\u001b[0m\n\u001b[1;32m    858\u001b[0m             \u001b[0;31m# Encoding\u001b[0m\u001b[0;34m\u001b[0m\u001b[0;34m\u001b[0m\u001b[0m\n\u001b[0;32m--> 859\u001b[0;31m             handle = open(\n\u001b[0m\u001b[1;32m    860\u001b[0m                 \u001b[0mhandle\u001b[0m\u001b[0;34m,\u001b[0m\u001b[0;34m\u001b[0m\u001b[0;34m\u001b[0m\u001b[0m\n\u001b[1;32m    861\u001b[0m                 \u001b[0mioargs\u001b[0m\u001b[0;34m.\u001b[0m\u001b[0mmode\u001b[0m\u001b[0;34m,\u001b[0m\u001b[0;34m\u001b[0m\u001b[0;34m\u001b[0m\u001b[0m\n",
            "\u001b[0;31mFileNotFoundError\u001b[0m: [Errno 2] No such file or directory: '/content/Mental Health Dataset.csv'"
          ]
        }
      ],
      "source": [
        "df = pd.read_csv('/content/Mental Health Dataset.csv')"
      ]
    },
    {
      "cell_type": "code",
      "source": [
        "from google.colab import drive\n",
        "drive.mount('/content/drive')"
      ],
      "metadata": {
        "id": "KLz9xtH1K3rq"
      },
      "id": "KLz9xtH1K3rq",
      "execution_count": null,
      "outputs": []
    },
    {
      "cell_type": "markdown",
      "id": "32b41bc3-9fdf-4df1-987a-aeab3f967d92",
      "metadata": {
        "id": "32b41bc3-9fdf-4df1-987a-aeab3f967d92"
      },
      "source": [
        "About Dataset\n",
        "\n",
        "This dataset records a global survey conducted to track trends in mental health. The data covers a range of variables such as levels of stress, depression, anxiety, subjective well-being, and use of mental health services. The survey involved respondents from various demographic backgrounds, including gender, employment status, and geographic region. This dataset aims to provide a better understanding of changes in mental health globally over the specified time period.\n",
        "\n",
        "The studied characteristics of the respondents:\n",
        "\n",
        "- Timestamp (Time and date of survey)\n",
        "- Gender (Gender of the respondent)\n",
        "- Country (The country where the respondent lives)\n",
        "- Occupation (Occupation or profession of the respondent)\n",
        "- self_employed (Is the respondent self-employed or not?)\n",
        "- family_history (Is there a history of mental health disorders in the respondent's family?)\n",
        "- treatment (Has the respondent ever received treatment or therapy for mental health problems?)\n",
        "- Days_Indoors (Estimated number of days a week the respondent spends indoors)\n",
        "- Growing_Stress (The current level of stress the respondent feels)\n",
        "- Changes_Habits (Has the respondent experienced any changes in sleeping habits or patterns?)"
      ]
    },
    {
      "cell_type": "code",
      "execution_count": null,
      "id": "59ec9c7c-fb87-477e-9c23-4a92d1f5eaff",
      "metadata": {
        "id": "59ec9c7c-fb87-477e-9c23-4a92d1f5eaff"
      },
      "outputs": [],
      "source": [
        "df"
      ]
    },
    {
      "cell_type": "code",
      "execution_count": null,
      "id": "4e2696fc-565a-474e-a1f5-ceb1b423dea0",
      "metadata": {
        "id": "4e2696fc-565a-474e-a1f5-ceb1b423dea0"
      },
      "outputs": [],
      "source": []
    },
    {
      "cell_type": "code",
      "execution_count": null,
      "id": "98c59fe6-1b09-4cf7-8a6c-b2ac8e40c524",
      "metadata": {
        "id": "98c59fe6-1b09-4cf7-8a6c-b2ac8e40c524"
      },
      "outputs": [],
      "source": [
        "df.head()"
      ]
    },
    {
      "cell_type": "code",
      "execution_count": null,
      "id": "f4ddec8d-232c-4639-8604-372a783571b3",
      "metadata": {
        "id": "f4ddec8d-232c-4639-8604-372a783571b3"
      },
      "outputs": [],
      "source": []
    },
    {
      "cell_type": "code",
      "execution_count": null,
      "id": "63f41d4c-dc20-4cfb-a2fe-42de6c30dbb8",
      "metadata": {
        "id": "63f41d4c-dc20-4cfb-a2fe-42de6c30dbb8"
      },
      "outputs": [],
      "source": [
        "df.info()"
      ]
    },
    {
      "cell_type": "code",
      "execution_count": null,
      "id": "d6c94cf3-6bfe-4311-af6b-a4a0b9c7ff7e",
      "metadata": {
        "id": "d6c94cf3-6bfe-4311-af6b-a4a0b9c7ff7e"
      },
      "outputs": [],
      "source": [
        "del df['Timestamp']"
      ]
    },
    {
      "cell_type": "code",
      "execution_count": null,
      "id": "29c6c3bb-b530-446e-b3b9-99033963cd31",
      "metadata": {
        "id": "29c6c3bb-b530-446e-b3b9-99033963cd31"
      },
      "outputs": [],
      "source": []
    },
    {
      "cell_type": "code",
      "execution_count": null,
      "id": "2a63e3c6-83f6-4044-96ae-4291f77c543e",
      "metadata": {
        "id": "2a63e3c6-83f6-4044-96ae-4291f77c543e"
      },
      "outputs": [],
      "source": [
        "df = df.rename(columns = str.lower)\n",
        "df"
      ]
    },
    {
      "cell_type": "code",
      "execution_count": null,
      "id": "c08c21b5-9165-4a34-9b8e-b92385fd7e62",
      "metadata": {
        "id": "c08c21b5-9165-4a34-9b8e-b92385fd7e62"
      },
      "outputs": [],
      "source": []
    },
    {
      "cell_type": "code",
      "execution_count": null,
      "id": "3183e412-fed4-44d6-b9f0-4ea827ac4780",
      "metadata": {
        "id": "3183e412-fed4-44d6-b9f0-4ea827ac4780"
      },
      "outputs": [],
      "source": [
        "df.isnull().sum()"
      ]
    },
    {
      "cell_type": "code",
      "execution_count": null,
      "id": "66bffbb4-e3e4-4c50-bef4-259f58584930",
      "metadata": {
        "id": "66bffbb4-e3e4-4c50-bef4-259f58584930"
      },
      "outputs": [],
      "source": [
        "df = df.dropna(subset = 'self_employed')"
      ]
    },
    {
      "cell_type": "code",
      "execution_count": null,
      "id": "648fe110-98f6-479e-b1e7-d2f06acf9712",
      "metadata": {
        "id": "648fe110-98f6-479e-b1e7-d2f06acf9712"
      },
      "outputs": [],
      "source": []
    },
    {
      "cell_type": "code",
      "execution_count": null,
      "id": "0053b5fd-4bb2-4644-93fa-3dadf09d6719",
      "metadata": {
        "id": "0053b5fd-4bb2-4644-93fa-3dadf09d6719"
      },
      "outputs": [],
      "source": [
        "df.nunique()"
      ]
    },
    {
      "cell_type": "code",
      "execution_count": null,
      "id": "f7bac758-e7d9-4b1a-bf2d-d5062f591d4c",
      "metadata": {
        "id": "f7bac758-e7d9-4b1a-bf2d-d5062f591d4c"
      },
      "outputs": [],
      "source": []
    },
    {
      "cell_type": "code",
      "execution_count": null,
      "id": "3cc2381f-6085-4cd5-9da3-7f853b20aa08",
      "metadata": {
        "id": "3cc2381f-6085-4cd5-9da3-7f853b20aa08"
      },
      "outputs": [],
      "source": [
        "df[\"country\"].unique()"
      ]
    },
    {
      "cell_type": "code",
      "execution_count": null,
      "id": "df51a945-2161-4eb6-b933-8d5618663a09",
      "metadata": {
        "id": "df51a945-2161-4eb6-b933-8d5618663a09"
      },
      "outputs": [],
      "source": [
        "df['country'].value_counts()"
      ]
    },
    {
      "cell_type": "code",
      "source": [
        "df['country'].value_counts(normalize=True)"
      ],
      "metadata": {
        "id": "LNvrbgxRLlyE"
      },
      "id": "LNvrbgxRLlyE",
      "execution_count": null,
      "outputs": []
    },
    {
      "cell_type": "code",
      "source": [],
      "metadata": {
        "id": "xtFQMI0FQ376"
      },
      "id": "xtFQMI0FQ376",
      "execution_count": null,
      "outputs": []
    },
    {
      "cell_type": "code",
      "source": [],
      "metadata": {
        "id": "7jNmWsxXQ3_L"
      },
      "id": "7jNmWsxXQ3_L",
      "execution_count": null,
      "outputs": []
    },
    {
      "cell_type": "code",
      "source": [],
      "metadata": {
        "id": "zvXtauOuQ2MU"
      },
      "id": "zvXtauOuQ2MU",
      "execution_count": null,
      "outputs": []
    },
    {
      "cell_type": "code",
      "execution_count": null,
      "id": "ee623e29-6ae8-4284-8b69-aca5b3a40fcf",
      "metadata": {
        "id": "ee623e29-6ae8-4284-8b69-aca5b3a40fcf"
      },
      "outputs": [],
      "source": [
        "plt.figure(figsize=(13, 10))\n",
        "sns.set_context(\"paper\", font_scale=0.94)\n",
        "\n",
        "sns.histplot(\n",
        "    data=df,\n",
        "    x='country',\n",
        "    bins=10,\n",
        "    hue='country'\n",
        ")\n",
        "\n",
        "plt.title('Distribution of the number of respondents by country', fontsize=12)\n",
        "plt.ylabel('Тumber of respondents', fontsize=12)\n",
        "plt.xlabel('Country', fontsize=12)\n",
        "# plt.legend().remove()\n",
        "\n",
        "bins=10\n",
        "plt.xticks(rotation=90)\n",
        "\n",
        "plt.yscale('log')\n"
      ]
    },
    {
      "cell_type": "code",
      "execution_count": null,
      "id": "0d72e5b2-2f39-4146-b201-1f2b48d3dc8a",
      "metadata": {
        "id": "0d72e5b2-2f39-4146-b201-1f2b48d3dc8a"
      },
      "outputs": [],
      "source": [
        "df[\"growing_stress\"].unique()"
      ]
    },
    {
      "cell_type": "code",
      "execution_count": null,
      "id": "d3b143b4-3330-4282-a625-68a016513f3c",
      "metadata": {
        "id": "d3b143b4-3330-4282-a625-68a016513f3c"
      },
      "outputs": [],
      "source": [
        "df['growing_stress'].value_counts()"
      ]
    },
    {
      "cell_type": "code",
      "execution_count": null,
      "id": "51d589db-f83c-4efe-9653-62911ac9f11d",
      "metadata": {
        "id": "51d589db-f83c-4efe-9653-62911ac9f11d"
      },
      "outputs": [],
      "source": [
        "df['growing_stress'].value_counts(normalize=True)"
      ]
    },
    {
      "cell_type": "code",
      "execution_count": null,
      "id": "8576effa-df9f-47f5-b948-83066fe26561",
      "metadata": {
        "id": "8576effa-df9f-47f5-b948-83066fe26561"
      },
      "outputs": [],
      "source": []
    },
    {
      "cell_type": "code",
      "execution_count": null,
      "id": "2a90de56-5c07-4a77-b04b-ed1e8bd24f27",
      "metadata": {
        "id": "2a90de56-5c07-4a77-b04b-ed1e8bd24f27"
      },
      "outputs": [],
      "source": [
        "df[\"mood_swings\"].unique()"
      ]
    },
    {
      "cell_type": "code",
      "execution_count": null,
      "id": "80fd6498-2d12-43e5-aad2-bab84938f09d",
      "metadata": {
        "id": "80fd6498-2d12-43e5-aad2-bab84938f09d"
      },
      "outputs": [],
      "source": [
        "df['mood_swings'].value_counts()"
      ]
    },
    {
      "cell_type": "code",
      "execution_count": null,
      "id": "a46f3e54-8b33-4ad6-a4a0-96b2e2128c6e",
      "metadata": {
        "id": "a46f3e54-8b33-4ad6-a4a0-96b2e2128c6e"
      },
      "outputs": [],
      "source": [
        "df['mood_swings'].value_counts(normalize=True)"
      ]
    },
    {
      "cell_type": "code",
      "execution_count": null,
      "id": "a263ff3d-7314-4570-9e19-5299ef1e1f90",
      "metadata": {
        "id": "a263ff3d-7314-4570-9e19-5299ef1e1f90"
      },
      "outputs": [],
      "source": []
    },
    {
      "cell_type": "code",
      "execution_count": null,
      "id": "153ea65e-5d5a-444e-80b8-3f5e133cb41d",
      "metadata": {
        "scrolled": true,
        "id": "153ea65e-5d5a-444e-80b8-3f5e133cb41d"
      },
      "outputs": [],
      "source": [
        "df[\"treatment\"].unique()"
      ]
    },
    {
      "cell_type": "code",
      "execution_count": null,
      "id": "3ed389aa-c64f-4392-88c3-ef8047dc4571",
      "metadata": {
        "id": "3ed389aa-c64f-4392-88c3-ef8047dc4571"
      },
      "outputs": [],
      "source": [
        "df['treatment'].value_counts()"
      ]
    },
    {
      "cell_type": "code",
      "execution_count": null,
      "id": "6dd32399-4dad-45f4-8a25-2bd038b55575",
      "metadata": {
        "id": "6dd32399-4dad-45f4-8a25-2bd038b55575"
      },
      "outputs": [],
      "source": [
        "df['treatment'].value_counts(normalize=True)"
      ]
    },
    {
      "cell_type": "code",
      "execution_count": null,
      "id": "b1cfc127-e01e-45e2-a9bd-7307bcaf3b4a",
      "metadata": {
        "id": "b1cfc127-e01e-45e2-a9bd-7307bcaf3b4a"
      },
      "outputs": [],
      "source": []
    },
    {
      "cell_type": "code",
      "execution_count": null,
      "id": "cbf43132-b786-4da4-b967-2c5f038666e8",
      "metadata": {
        "id": "cbf43132-b786-4da4-b967-2c5f038666e8"
      },
      "outputs": [],
      "source": [
        "df['occupation'].unique()"
      ]
    },
    {
      "cell_type": "code",
      "execution_count": null,
      "id": "fe9ebf70-841f-42d9-91e5-06523cb82fc7",
      "metadata": {
        "id": "fe9ebf70-841f-42d9-91e5-06523cb82fc7"
      },
      "outputs": [],
      "source": [
        "df['occupation'].value_counts()"
      ]
    },
    {
      "cell_type": "code",
      "execution_count": null,
      "id": "313d5859-8dfa-48c8-81d5-eb3b17ba89c2",
      "metadata": {
        "id": "313d5859-8dfa-48c8-81d5-eb3b17ba89c2"
      },
      "outputs": [],
      "source": [
        "df['occupation'].value_counts(normalize=True)"
      ]
    },
    {
      "cell_type": "code",
      "execution_count": null,
      "id": "d622ccdd-0345-4d8e-a22c-d879934405df",
      "metadata": {
        "id": "d622ccdd-0345-4d8e-a22c-d879934405df"
      },
      "outputs": [],
      "source": []
    },
    {
      "cell_type": "code",
      "execution_count": null,
      "id": "26cba95d-d391-40bc-8867-dda7a3d9db77",
      "metadata": {
        "id": "26cba95d-d391-40bc-8867-dda7a3d9db77"
      },
      "outputs": [],
      "source": [
        "df['gender'].value_counts()"
      ]
    },
    {
      "cell_type": "code",
      "execution_count": null,
      "id": "eadab541-bca8-49d4-aac0-c3a6014b8a70",
      "metadata": {
        "id": "eadab541-bca8-49d4-aac0-c3a6014b8a70"
      },
      "outputs": [],
      "source": [
        "df['gender'].value_counts(normalize=True)"
      ]
    },
    {
      "cell_type": "code",
      "execution_count": null,
      "id": "aaad39e8-6c7e-45ce-ac94-0e19582b8e35",
      "metadata": {
        "id": "aaad39e8-6c7e-45ce-ac94-0e19582b8e35"
      },
      "outputs": [],
      "source": [
        "labels = ['Male', 'Female']\n",
        "sizes = [0.821662, 0.178338]\n",
        "colors = ['#66b3ff', '#ff9999']\n",
        "explode = (0.1, 0)  # Выделение сегмента для \"No\"\n",
        "\n",
        "# Построение круговой диаграммы\n",
        "plt.figure(figsize=(5, 5))\n",
        "plt.pie(sizes, explode=explode, labels=labels, colors=colors, autopct='%1.1f%%', startangle=140, textprops={'fontsize': 12})\n",
        "plt.axis('equal')  # Позволяет создать круговую диаграмму в виде круга\n",
        "plt.title('Gender proportion', fontsize=15)"
      ]
    },
    {
      "cell_type": "code",
      "execution_count": null,
      "id": "6a947217-2c41-45bc-8831-33ea82c3fa9c",
      "metadata": {
        "id": "6a947217-2c41-45bc-8831-33ea82c3fa9c"
      },
      "outputs": [],
      "source": [
        "df['treatment'].value_counts()"
      ]
    },
    {
      "cell_type": "code",
      "execution_count": null,
      "id": "9336f295-1e27-479c-a3d3-9dfe2ab5cac2",
      "metadata": {
        "id": "9336f295-1e27-479c-a3d3-9dfe2ab5cac2"
      },
      "outputs": [],
      "source": [
        "df['treatment'].value_counts(normalize=True)"
      ]
    },
    {
      "cell_type": "code",
      "execution_count": null,
      "id": "528aae3b",
      "metadata": {
        "id": "528aae3b"
      },
      "outputs": [],
      "source": []
    },
    {
      "cell_type": "code",
      "execution_count": null,
      "id": "7c505d48-640e-4f87-9613-0b9b0c951c90",
      "metadata": {
        "id": "7c505d48-640e-4f87-9613-0b9b0c951c90"
      },
      "outputs": [],
      "source": [
        "df['self_employed'].value_counts()"
      ]
    },
    {
      "cell_type": "code",
      "execution_count": null,
      "id": "d96fde9b",
      "metadata": {
        "id": "d96fde9b"
      },
      "outputs": [],
      "source": [
        "df['self_employed'].value_counts(normalize=True)"
      ]
    },
    {
      "cell_type": "code",
      "execution_count": null,
      "id": "72958dca-5e88-4547-809c-b179ee512271",
      "metadata": {
        "id": "72958dca-5e88-4547-809c-b179ee512271"
      },
      "outputs": [],
      "source": [
        "labels = ['No', 'Yes']\n",
        "sizes = [0.898427, 0.101573]\n",
        "colors = ['#9370DB', '#F0E68C']  # Цвета для каждой категории\n",
        "explode = (0.1, 0)  # Выделение сегмента для \"No\"\n",
        "\n",
        "# Построение круговой диаграммы\n",
        "plt.figure(figsize=(5, 5))\n",
        "plt.pie(sizes, explode=explode, labels=labels, colors=colors, autopct='%1.1f%%', startangle=140, textprops={'fontsize': 12})\n",
        "plt.axis('equal')  # Позволяет создать круговую диаграмму в виде круга\n",
        "plt.title('Self-employed respondent proportion', fontsize=14)"
      ]
    },
    {
      "cell_type": "code",
      "execution_count": null,
      "id": "dae133fb",
      "metadata": {
        "id": "dae133fb"
      },
      "outputs": [],
      "source": [
        "# Группировка (сегментация) и подсчет количества ответов по переменной growing_stress и country\n",
        "stress_by_country = df.groupby(['growing_stress', 'country']).size().unstack()\n",
        "\n",
        "# Группировка и подсчет количества ответов по переменной growing_stress и gender\n",
        "stress_by_gender = df.groupby(['growing_stress', 'gender']).size().unstack()\n",
        "\n",
        "# Группировка и подсчет количества ответов по переменной growing_stress и occupation\n",
        "stress_by_occupation = df.groupby(['growing_stress', 'occupation']).size().unstack()\n",
        "\n",
        "# Группировка и подсчет количества ответов по переменной growing_stress и self_employed\n",
        "stress_by_self_employed = df.groupby(['growing_stress', 'self_employed']).size().unstack()\n",
        "\n",
        "# Группировка и подсчет количества ответов по переменной mood_swings и treatment\n",
        "mood_by_treatment = df.groupby(['mood_swings', 'treatment']).size().unstack()\n",
        "\n",
        "# Группировка и подсчет количества ответов по переменной growing_stress и treatment\n",
        "growing_stress_by_treatment = df.groupby(['growing_stress', 'treatment']).size().unstack()"
      ]
    },
    {
      "cell_type": "code",
      "execution_count": null,
      "id": "ad7fc513",
      "metadata": {
        "id": "ad7fc513"
      },
      "outputs": [],
      "source": [
        "stress_by_country"
      ]
    },
    {
      "cell_type": "code",
      "execution_count": null,
      "id": "247e2d26-dd4c-4837-9a17-da15cc161f6a",
      "metadata": {
        "id": "247e2d26-dd4c-4837-9a17-da15cc161f6a"
      },
      "outputs": [],
      "source": [
        "plt.figure(figsize=(16, 8))\n",
        "colors = sns.color_palette(\"hls\", 8)\n",
        "\n",
        "sns.countplot(data=df,\n",
        "              x='country',\n",
        "              hue='growing_stress',\n",
        "              palette=Spectral)\n",
        "\n",
        "plt.title('Growing stress in different countries', fontsize=20)\n",
        "plt.ylabel('Number of responses', fontsize=15)\n",
        "plt.xlabel('Country', fontsize=15)\n",
        "\n",
        "bins=25\n",
        "plt.xticks(rotation=90, ha='right', fontsize=13)\n",
        "plt.legend(title='Growing Stress', title_fontsize='large', fontsize='large')\n",
        "plt.yscale('log')"
      ]
    },
    {
      "cell_type": "code",
      "execution_count": null,
      "id": "4e2d5350",
      "metadata": {
        "id": "4e2d5350"
      },
      "outputs": [],
      "source": [
        "stress_by_gender"
      ]
    },
    {
      "cell_type": "code",
      "execution_count": null,
      "id": "71e30d98-771d-4721-92ce-6366fdd45ff2",
      "metadata": {
        "id": "71e30d98-771d-4721-92ce-6366fdd45ff2"
      },
      "outputs": [],
      "source": [
        "plt.figure(figsize=(16, 8))\n",
        "colors = sns.color_palette(\"Accent\", 8)\n",
        "\n",
        "sns.countplot(data=df,\n",
        "              x='gender',\n",
        "              hue='growing_stress',\n",
        "              palette=colors)\n",
        "\n",
        "plt.title('Growing stress and gender', fontsize=20)\n",
        "plt.ylabel('Number of responses', fontsize=15)\n",
        "plt.xlabel('Gender', fontsize=15)\n",
        "\n",
        "bins=15\n",
        "plt.xticks(ha='right', fontsize=13)\n",
        "plt.legend(title='Growing Stress', title_fontsize='large', fontsize='large')"
      ]
    },
    {
      "cell_type": "code",
      "execution_count": null,
      "id": "df846a49-edf1-4df2-a520-0fef53bd50fb",
      "metadata": {
        "id": "df846a49-edf1-4df2-a520-0fef53bd50fb"
      },
      "outputs": [],
      "source": [
        "from statsmodels.stats.proportion import proportions_ztest\n",
        "\n",
        "# Создаем таблицу сопряженности для женщин и ответов\n",
        "female_data = df[df['Gender'] == 'Female']\n",
        "female_yes_count = female_data[female_data['Growing_Stress'] == 'Yes'].shape[0]\n",
        "female_total_count = female_data.shape[0]\n",
        "\n",
        "# Общее количество ответов \"нет\" или \"возможно\"\n",
        "female_no_maybe_count = female_total_count - female_yes_count\n",
        "\n",
        "# Общее количество ответов \"да\" и \"нет\" или \"возможно\"\n",
        "count = np.array([female_yes_count, female_no_maybe_count])\n",
        "\n",
        "# Общее количество ответов для всех женщин\n",
        "nobs = np.array([female_total_count, female_total_count])\n",
        "\n",
        "# Выполняем Z-тест\n",
        "z_stat, p_value = proportions_ztest(count, nobs, alternative='larger')  # 'larger' для одностороннего теста\n",
        "\n",
        "# Выводим результаты\n",
        "print(\"Z-статистика:\", z_stat)\n",
        "print(\"p-значение:\", p_value)"
      ]
    },
    {
      "cell_type": "code",
      "execution_count": null,
      "id": "d5b7eb41-a00c-4e81-9089-3c21ef13aa67",
      "metadata": {
        "id": "d5b7eb41-a00c-4e81-9089-3c21ef13aa67"
      },
      "outputs": [],
      "source": [
        "stress_by_occupation"
      ]
    },
    {
      "cell_type": "code",
      "execution_count": null,
      "id": "04148bb7-4176-460f-9287-7712cc8c22d9",
      "metadata": {
        "id": "04148bb7-4176-460f-9287-7712cc8c22d9"
      },
      "outputs": [],
      "source": [
        "plt.figure(figsize=(16, 8))\n",
        "colors = sns.color_palette(\"Set2\", 8)\n",
        "\n",
        "sns.countplot(data=df,\n",
        "              x='occupation',\n",
        "              hue='growing_stress',\n",
        "              palette=colors)\n",
        "\n",
        "plt.title('Growing stress and occupation', fontsize=20)\n",
        "plt.ylabel('Number of responses', fontsize=15)\n",
        "plt.xlabel('Occupation', fontsize=15)\n",
        "\n",
        "bins=25\n",
        "plt.xticks(ha='right', fontsize=13)\n",
        "plt.legend(title='Growing Stress', title_fontsize='large', fontsize='large')"
      ]
    },
    {
      "cell_type": "code",
      "execution_count": null,
      "id": "501bbb8f-0bcd-4e60-ba8b-5e12b8786204",
      "metadata": {
        "id": "501bbb8f-0bcd-4e60-ba8b-5e12b8786204"
      },
      "outputs": [],
      "source": []
    },
    {
      "cell_type": "code",
      "execution_count": null,
      "id": "93a39327-a0cf-422b-99ae-3c2c5efc98c9",
      "metadata": {
        "id": "93a39327-a0cf-422b-99ae-3c2c5efc98c9"
      },
      "outputs": [],
      "source": [
        "stress_by_self_employed"
      ]
    },
    {
      "cell_type": "code",
      "execution_count": null,
      "id": "2a8fb05e-6e55-4f53-9f5f-08234315124c",
      "metadata": {
        "id": "2a8fb05e-6e55-4f53-9f5f-08234315124c"
      },
      "outputs": [],
      "source": [
        "plt.figure(figsize=(16, 8))\n",
        "colors = sns.color_palette(\"Set2\", 8)\n",
        "\n",
        "sns.countplot(data=df,\n",
        "              x='self_employed',\n",
        "              hue='growing_stress',\n",
        "              palette=colors)\n",
        "\n",
        "plt.title('Growing stress and self_employed', fontsize=20)\n",
        "plt.ylabel('Number of responses', fontsize=15)\n",
        "plt.xlabel('Self employed', fontsize=15)\n",
        "\n",
        "bins=25\n",
        "plt.xticks(ha='right', fontsize=13)\n",
        "plt.legend(title='Growing Stress', title_fontsize='large', fontsize='large')\n"
      ]
    },
    {
      "cell_type": "code",
      "execution_count": null,
      "id": "e1f8e562-f2c9-4296-b389-a27c2af6800a",
      "metadata": {
        "id": "e1f8e562-f2c9-4296-b389-a27c2af6800a"
      },
      "outputs": [],
      "source": []
    },
    {
      "cell_type": "code",
      "execution_count": null,
      "id": "06db91cd-043c-4373-a999-1c41dd4cfdf3",
      "metadata": {
        "scrolled": true,
        "id": "06db91cd-043c-4373-a999-1c41dd4cfdf3"
      },
      "outputs": [],
      "source": [
        "mood_by_treatment"
      ]
    },
    {
      "cell_type": "code",
      "execution_count": null,
      "id": "89918543-cc5c-4e58-ade9-0bbabf2b721a",
      "metadata": {
        "id": "89918543-cc5c-4e58-ade9-0bbabf2b721a"
      },
      "outputs": [],
      "source": [
        "plt.figure(figsize=(16, 8))\n",
        "colors = sns.color_palette(\"pastel\", 8)\n",
        "\n",
        "sns.countplot(data=df,\n",
        "              x='mood_swings',\n",
        "              hue='treatment',\n",
        "              palette=colors)\n",
        "\n",
        "plt.title('Mood swings and treatment', fontsize=20)\n",
        "plt.ylabel('Number of responses', fontsize=15)\n",
        "plt.xlabel('Mood swings', fontsize=15)\n",
        "\n",
        "bins=25\n",
        "plt.xticks(ha='right', fontsize=13)\n",
        "plt.legend(title='Treatment', title_fontsize='large', fontsize='large')"
      ]
    },
    {
      "cell_type": "code",
      "execution_count": null,
      "id": "d3147328-2c3e-4b3b-acb7-8fd7846f8745",
      "metadata": {
        "id": "d3147328-2c3e-4b3b-acb7-8fd7846f8745"
      },
      "outputs": [],
      "source": []
    },
    {
      "cell_type": "code",
      "source": [
        "growing_stress_by_treatment"
      ],
      "metadata": {
        "id": "n9EvChw6N4un"
      },
      "id": "n9EvChw6N4un",
      "execution_count": null,
      "outputs": []
    },
    {
      "cell_type": "code",
      "source": [
        "plt.figure(figsize=(16, 8))\n",
        "colors = sns.color_palette(\"pastel\", 8)\n",
        "\n",
        "sns.countplot(data=df,\n",
        "              x='growing_stress',\n",
        "              hue='treatment',\n",
        "              palette=colors)\n",
        "\n",
        "plt.title('Growing stress and treatment', fontsize=20)\n",
        "plt.ylabel('Number of responses', fontsize=15)\n",
        "plt.xlabel('Growing Stress', fontsize=15)\n",
        "\n",
        "bins=25\n",
        "plt.xticks(ha='right', fontsize=13)\n",
        "plt.legend(title='Treatment', title_fontsize='large', fontsize='large')"
      ],
      "metadata": {
        "id": "BVmIqhtTN9dw"
      },
      "id": "BVmIqhtTN9dw",
      "execution_count": null,
      "outputs": []
    },
    {
      "cell_type": "code",
      "source": [],
      "metadata": {
        "id": "SB10wS3NP-mW"
      },
      "id": "SB10wS3NP-mW",
      "execution_count": null,
      "outputs": []
    },
    {
      "cell_type": "code",
      "source": [],
      "metadata": {
        "id": "cMelRo33P-uH"
      },
      "id": "cMelRo33P-uH",
      "execution_count": null,
      "outputs": []
    },
    {
      "cell_type": "code",
      "source": [],
      "metadata": {
        "id": "9G6fpZBoP-wl"
      },
      "id": "9G6fpZBoP-wl",
      "execution_count": null,
      "outputs": []
    },
    {
      "cell_type": "code",
      "source": [],
      "metadata": {
        "id": "kPijyPE_P-zN"
      },
      "id": "kPijyPE_P-zN",
      "execution_count": null,
      "outputs": []
    }
  ],
  "metadata": {
    "kernelspec": {
      "display_name": "Python 3 (ipykernel)",
      "language": "python",
      "name": "python3"
    },
    "language_info": {
      "codemirror_mode": {
        "name": "ipython",
        "version": 3
      },
      "file_extension": ".py",
      "mimetype": "text/x-python",
      "name": "python",
      "nbconvert_exporter": "python",
      "pygments_lexer": "ipython3",
      "version": "3.12.0"
    },
    "colab": {
      "provenance": [],
      "include_colab_link": true
    }
  },
  "nbformat": 4,
  "nbformat_minor": 5
}